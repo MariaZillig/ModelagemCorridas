{
  "nbformat": 4,
  "nbformat_minor": 0,
  "metadata": {
    "colab": {
      "provenance": []
    },
    "kernelspec": {
      "name": "python3",
      "display_name": "Python 3"
    },
    "language_info": {
      "name": "python"
    }
  },
  "cells": [
    {
      "cell_type": "code",
      "execution_count": 1,
      "metadata": {
        "colab": {
          "base_uri": "https://localhost:8080/"
        },
        "id": "jt9dhUWirjAH",
        "outputId": "1fae9a3c-1aad-408e-bc04-47a65660e53d"
      },
      "outputs": [
        {
          "output_type": "stream",
          "name": "stdout",
          "text": [
            "Banco criado com sucesso!\n"
          ]
        }
      ],
      "source": [
        "import sqlite3\n",
        "\n",
        "# Cria conexão (em memória)\n",
        "conn = sqlite3.connect(\":memory:\")\n",
        "cursor = conn.cursor()\n",
        "\n",
        "# Script SQL com tabelas e constraints\n",
        "schema = \"\"\"\n",
        "CREATE TABLE TB_PAIS (\n",
        "    ID_PAIS INT PRIMARY KEY,\n",
        "    NM_PAIS VARCHAR(100) NOT NULL,\n",
        "    NR_POPULACAO BIGINT\n",
        ");\n",
        "\n",
        "CREATE TABLE TB_EQUIPE (\n",
        "    ID_EQUIPE INT PRIMARY KEY,\n",
        "    NM_EQUIPE VARCHAR(100) NOT NULL,\n",
        "    ID_PAIS INT,\n",
        "    FOREIGN KEY (ID_PAIS) REFERENCES TB_PAIS (ID_PAIS)\n",
        ");\n",
        "\n",
        "CREATE TABLE TB_CIRCUITO (\n",
        "    ID_CIRCUITO INT PRIMARY KEY,\n",
        "    NM_CIRCUITO VARCHAR(100) NOT NULL,\n",
        "    NR_EXTENSAO DECIMAL(10,2),\n",
        "    ID_PAIS INT,\n",
        "    FOREIGN KEY (ID_PAIS) REFERENCES TB_PAIS (ID_PAIS)\n",
        ");\n",
        "\n",
        "CREATE TABLE TB_PILOTO (\n",
        "    ID_PILOTO INT PRIMARY KEY,\n",
        "    NM_PILOTO VARCHAR(100) NOT NULL,\n",
        "    DT_NASCIMENTO DATE,\n",
        "    ID_PAIS INT,\n",
        "    ID_EQUIPE INT,\n",
        "    FOREIGN KEY (ID_PAIS) REFERENCES TB_PAIS (ID_PAIS),\n",
        "    FOREIGN KEY (ID_EQUIPE) REFERENCES TB_EQUIPE (ID_EQUIPE)\n",
        ");\n",
        "\n",
        "CREATE TABLE TB_PROVA (\n",
        "    ID_PROVA INT PRIMARY KEY,\n",
        "    DT_PROVA DATE,\n",
        "    NM_SITUACAO VARCHAR(50),\n",
        "    ID_CIRCUITO INT,\n",
        "    FOREIGN KEY (ID_CIRCUITO) REFERENCES TB_CIRCUITO (ID_CIRCUITO)\n",
        ");\n",
        "\n",
        "CREATE TABLE TB_RESULTADO (\n",
        "    ID_PROVA INT,\n",
        "    ID_PILOTO INT,\n",
        "    NR_TEMPO_PROVA DECIMAL(10,2),\n",
        "    NR_COLOC_FINAL INT,\n",
        "    NR_POSICAO_GRID INT,\n",
        "    NR_MELHOR_VOLTA DECIMAL(10,2),\n",
        "    PRIMARY KEY (ID_PROVA, ID_PILOTO),\n",
        "    FOREIGN KEY (ID_PROVA) REFERENCES TB_PROVA (ID_PROVA),\n",
        "    FOREIGN KEY (ID_PILOTO) REFERENCES TB_PILOTO (ID_PILOTO)\n",
        ");\n",
        "\"\"\"\n",
        "\n",
        "cursor.executescript(schema)\n",
        "print(\"Banco criado com sucesso!\")"
      ]
    },
    {
      "cell_type": "code",
      "source": [
        "# Inserir países\n",
        "cursor.execute(\"INSERT INTO TB_PAIS VALUES (1, 'Brasil', 213000000)\")\n",
        "cursor.execute(\"INSERT INTO TB_PAIS VALUES (2, 'Itália', 60000000)\")\n",
        "\n",
        "# Inserir equipes\n",
        "cursor.execute(\"INSERT INTO TB_EQUIPE VALUES (1, 'Ferrari', 2)\")\n",
        "cursor.execute(\"INSERT INTO TB_EQUIPE VALUES (2, 'McLaren', 2)\")\n",
        "\n",
        "# Inserir pilotos\n",
        "cursor.execute(\"INSERT INTO TB_PILOTO VALUES (1, 'Ayrton Senna', '1960-03-21', 1, 2)\")\n",
        "cursor.execute(\"INSERT INTO TB_PILOTO VALUES (2, 'Michael Schumacher', '1969-01-03', 2, 1)\")\n",
        "\n",
        "# Inserir circuitos\n",
        "cursor.execute(\"INSERT INTO TB_CIRCUITO VALUES (1, 'Interlagos', 4309.00, 1)\")\n",
        "cursor.execute(\"INSERT INTO TB_CIRCUITO VALUES (2, 'Monza', 5793.00, 2)\")\n",
        "\n",
        "# Inserir provas\n",
        "cursor.execute(\"INSERT INTO TB_PROVA VALUES (1, '1991-03-24', 'Concluída', 1)\")\n",
        "cursor.execute(\"INSERT INTO TB_PROVA VALUES (2, '2000-09-10', 'Concluída', 2)\")\n",
        "\n",
        "# Inserir resultados\n",
        "cursor.execute(\"INSERT INTO TB_RESULTADO VALUES (1, 1, 7200.50, 1, 3, 90.20)\")\n",
        "cursor.execute(\"INSERT INTO TB_RESULTADO VALUES (2, 2, 6800.75, 1, 1, 85.60)\")\n",
        "\n",
        "conn.commit()\n",
        "print(\"Dados inseridos com sucesso!\")"
      ],
      "metadata": {
        "colab": {
          "base_uri": "https://localhost:8080/"
        },
        "id": "b-l1ts5grs1o",
        "outputId": "ddf9b481-1cbc-4eec-83a7-d84c09d4a938"
      },
      "execution_count": 2,
      "outputs": [
        {
          "output_type": "stream",
          "name": "stdout",
          "text": [
            "Dados inseridos com sucesso!\n"
          ]
        }
      ]
    },
    {
      "cell_type": "code",
      "source": [
        "# Listar pilotos e suas equipes\n",
        "cursor.execute(\"\"\"\n",
        "SELECT P.NM_PILOTO, E.NM_EQUIPE, PA.NM_PAIS\n",
        "FROM TB_PILOTO P\n",
        "JOIN TB_EQUIPE E ON P.ID_EQUIPE = E.ID_EQUIPE\n",
        "JOIN TB_PAIS PA ON P.ID_PAIS = PA.ID_PAIS;\n",
        "\"\"\")\n",
        "print(cursor.fetchall())\n",
        "\n",
        "# Mostrar resultados de provas\n",
        "cursor.execute(\"\"\"\n",
        "SELECT PR.DT_PROVA, C.NM_CIRCUITO, PI.NM_PILOTO, R.NR_COLOC_FINAL, R.NR_MELHOR_VOLTA\n",
        "FROM TB_RESULTADO R\n",
        "JOIN TB_PROVA PR ON R.ID_PROVA = PR.ID_PROVA\n",
        "JOIN TB_CIRCUITO C ON PR.ID_CIRCUITO = C.ID_CIRCUITO\n",
        "JOIN TB_PILOTO PI ON R.ID_PILOTO = PI.ID_PILOTO;\n",
        "\"\"\")\n",
        "print(cursor.fetchall())"
      ],
      "metadata": {
        "colab": {
          "base_uri": "https://localhost:8080/"
        },
        "id": "T4CFEA_NrwpY",
        "outputId": "720fec3c-eb6d-4981-f0a6-9c625861b222"
      },
      "execution_count": 3,
      "outputs": [
        {
          "output_type": "stream",
          "name": "stdout",
          "text": [
            "[('Ayrton Senna', 'McLaren', 'Brasil'), ('Michael Schumacher', 'Ferrari', 'Itália')]\n",
            "[('1991-03-24', 'Interlagos', 'Ayrton Senna', 1, 90.2), ('2000-09-10', 'Monza', 'Michael Schumacher', 1, 85.6)]\n"
          ]
        }
      ]
    }
  ]
}